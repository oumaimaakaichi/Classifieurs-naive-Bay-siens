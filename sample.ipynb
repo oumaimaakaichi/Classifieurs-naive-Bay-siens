{
 "cells": [
  {
   "metadata": {},
   "cell_type": "raw",
   "source": [
    "import numpy as np\n",
    "import pandas as pd\n",
    "\n",
    "data = pd.DataFrame()\n",
    "\n",
    "data['Genre'] = ['femme','femme','femme','femme','homme','homme','homme','homme']\n",
    "\n",
    "data['taille'] = [172,160, 180, 175, 173, 186, 177, 181]\n",
    "data['poids'] = [80,55,80,70,76,100,80,83]\n",
    "data['pointure'] = [41,38,43,41,41,45,44,45]\n",
    "X = pd.DataFrame()\n",
    "X['taille'] = [171]\n",
    "X['poids'] = [75]\n",
    "X['pointure'] = [41]\n",
    "data_means = data.groupby('Genre').mean()\n",
    "data_variance = data.groupby('Genre').var()\n",
    "\n",
    "taille_H_mean = data_means['taille'][data_variance.index == 'homme'].values[0]\n",
    "poids_H_mean = data_means['poids'][data_variance.index == 'homme'].values[0]\n",
    "pointure_H_mean = data_means['pointure'][data_variance.index == 'homme'].values[0]\n",
    "\n",
    "taille_H_variance = data_variance['taille'][data_variance.index == 'homme'].values[0]\n",
    "poids_H_variance = data_variance['poids'][data_variance.index == 'homme'].values[0]\n",
    "pointure_H_variance = data_variance['pointure'][data_variance.index == 'homme'].values[0]\n",
    "\n",
    "taille_F_mean = data_means['taille'][data_variance.index == 'femme'].values[0]\n",
    "poids_F_mean = data_means['poids'][data_variance.index == 'femme'].values[0]\n",
    "pointure_F_mean = data_means['pointure'][data_variance.index == 'femme'].values[0]\n",
    "\n",
    "taille_F_variance = data_variance['taille'][data_variance.index == 'femme'].values[0]\n",
    "poids_F_variance = data_variance['poids'][data_variance.index == 'femme'].values[0]\n",
    "pointure_F_variance = data_variance['pointure'][data_variance.index == 'femme'].values[0]\n",
    "def vraisemblance(x, mean_y, variance_y):\n",
    "\n",
    "   return 1/(np.sqrt(2*np.pi*variance_y)) * np.exp((-(x-mean_y)**2)/(2*variance_y))\n",
    "n_homme = data['Genre'][data['Genre'] == 'homme'].count()\n",
    "n_femme = data['Genre'][data['Genre'] == 'femme'].count()\n",
    "total = data['Genre'].count()\n",
    "\n",
    "P_H= n_homme/total\n",
    "P_F = n_homme/total\n",
    "H = P_H * \\\n",
    "vraisemblance(X['taille'][0], taille_H_mean, taille_H_variance) * \\\n",
    "vraisemblance(X['poids'][0], poids_H_mean, poids_H_variance) * \\\n",
    "vraisemblance(X['pointure'][0], pointure_H_mean, pointure_H_variance)\n",
    "\n",
    "F = P_F * \\\n",
    "vraisemblance(X['taille'][0], taille_F_mean, taille_F_variance) * \\\n",
    "vraisemblance(X['poids'][0], poids_F_mean, poids_F_variance) * \\\n",
    "vraisemblance(X['pointure'][0], pointure_F_mean, pointure_F_variance)\n",
    "\n",
    "if F>H :\n",
    "    print(\"la personne est une femme\")\n",
    "else:\n",
    "    print(\"la personne est un homme\")"
   ],
   "id": "eaf52e6faa674237"
  }
 ],
 "metadata": {
  "kernelspec": {
   "display_name": "Python 3",
   "language": "python",
   "name": "python3"
  },
  "language_info": {
   "codemirror_mode": {
    "name": "ipython",
    "version": 2
   },
   "file_extension": ".py",
   "mimetype": "text/x-python",
   "name": "python",
   "nbconvert_exporter": "python",
   "pygments_lexer": "ipython2",
   "version": "2.7.6"
  }
 },
 "nbformat": 4,
 "nbformat_minor": 5
}
